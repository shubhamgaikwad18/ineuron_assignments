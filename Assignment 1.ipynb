{
 "cells": [
  {
   "cell_type": "markdown",
   "id": "5443c28a-76cd-4e82-ae05-c23943c48370",
   "metadata": {},
   "source": [
    "1. In the below elements which of them are values or an expression? eg:- values can be\n",
    "integer or string and expressions will be mathematical operators."
   ]
  },
  {
   "cell_type": "markdown",
   "id": "32ef8cd6-6256-4945-95b5-409f60622be5",
   "metadata": {},
   "source": [
    "Ans: values: 'hello' , -87.8  , 6\n",
    "     expression: * , - , / , +"
   ]
  },
  {
   "cell_type": "markdown",
   "id": "494115b3-8693-450c-951f-2b845529cb75",
   "metadata": {},
   "source": [
    "2. What is the difference between string and variable?"
   ]
  },
  {
   "cell_type": "markdown",
   "id": "3abf7e7d-097e-4334-b7f5-841bc05490de",
   "metadata": {},
   "source": [
    "Ans: string is basically a group of characters,string is a type of information which we need to store in  a variable,for eg:'Ram','School' \n",
    "     varibles are used to give values,that is to initialize a value which we need in the code for eg: a=15.here a is a variable which contains        value 15."
   ]
  },
  {
   "cell_type": "markdown",
   "id": "d9af0d7a-15ef-4f34-b410-6e95af887cbf",
   "metadata": {},
   "source": [
    "3. Describe three different data types."
   ]
  },
  {
   "cell_type": "markdown",
   "id": "4283108c-8297-4a2c-bc66-4eb8f6d9090b",
   "metadata": {},
   "source": [
    "Ans: The various data types in python are:\n",
    "     1)Lists:They are mutabable in nature.\n",
    "             They are used to store various items in a single variable.\n",
    "             Generated using square brackets.\n",
    "             eg:a=[1,3,4,2]\n",
    "     2)Tuple:They are immutable in nature.\n",
    "             They are used to store items of the same of type in a variable.\n",
    "             Generated using round brackets \n",
    "             eg:a=(1,2,3,4)\n",
    "     3)Set:Used to store multiple items in a single varible.\n",
    "           They are mutable in nature.\n",
    "           Generated using curly brackets.\n",
    "           eg : S={'Jack','45','rose'}\n",
    "           \n",
    "             \n",
    "             \n",
    "     \n",
    "     \n",
    "             \n",
    "     "
   ]
  },
  {
   "cell_type": "markdown",
   "id": "7a327a81-acd1-4d6b-92d0-f8037678eda9",
   "metadata": {},
   "source": [
    "4. What is an expression made up of? What do all expressions do?"
   ]
  },
  {
   "cell_type": "markdown",
   "id": "337f2cea-c92b-4b93-b682-34febab624e3",
   "metadata": {},
   "source": [
    "Ans: Expressions in python are basically used to perform mathematical operations.\n",
    "     They are a combination of both operator and operand.\n",
    "     They produce some values or result after being interpreted by the python interpreter.\n",
    "     for eg:\n",
    "     x=3+5 ,here 3 and 5 are the operands and + is the operator,the result will be stored in x.\n",
    "     "
   ]
  },
  {
   "cell_type": "markdown",
   "id": "a12f3a3e-3130-42ab-9233-a9edf76ccdc1",
   "metadata": {},
   "source": [
    "5. This assignment statements, like spam = 10. What is the difference between an\n",
    "expression and a statement?"
   ]
  },
  {
   "cell_type": "markdown",
   "id": "928c43f1-fc30-438f-ac0a-8001adb82d79",
   "metadata": {},
   "source": [
    "Ans: A statement in python is not basically used to get results,whereas expression is used to get result where operands and operator is present \n",
    "     spam=10 is a statement\n",
    "     but if we write spam=spam+10 then it is an expresssion\n",
    "     this is the major differnce between expression and statement in python.\n",
    "    "
   ]
  },
  {
   "cell_type": "markdown",
   "id": "7346d129-3fc9-4731-9646-14db3152a0fa",
   "metadata": {},
   "source": [
    "6. After running the following code, what does the variable bacon contain?\n",
    "bacon = 22\n",
    "bacon + 1"
   ]
  },
  {
   "cell_type": "markdown",
   "id": "6d502ae8-0817-4bb9-b6df-f3152aab25bc",
   "metadata": {},
   "source": [
    "Ans: the output will be\n",
    "     bacon = 23\n",
    "     explanation: as the value of bacon first is 22 then it is added with 1 which makes the value of bacon 23.bacon here is a variable .\n",
    "        "
   ]
  },
  {
   "cell_type": "markdown",
   "id": "ab2f1db5-f6be-402e-a550-a3bb8e095387",
   "metadata": {},
   "source": [
    "7. What should the values of the following two terms be?\n",
    "&#39;spam&#39; + &#39;spamspam&#39;\n",
    "&#39;spam&#39; * 3"
   ]
  },
  {
   "cell_type": "markdown",
   "id": "67110b6c-c51a-4d41-bef2-756f6746cdbe",
   "metadata": {},
   "source": [
    "Ans: The output of both cases will be the same,ie\n",
    "     spamspamspam\n",
    "     "
   ]
  },
  {
   "cell_type": "markdown",
   "id": "f6d62b1c-ea9d-40f9-9532-a6a66b7b02e4",
   "metadata": {},
   "source": [
    "8. Why is eggs a valid variable name while 100 is invalid?"
   ]
  },
  {
   "cell_type": "markdown",
   "id": "0edb57a6-2616-4e7d-a8ad-43b755a308ef",
   "metadata": {},
   "source": [
    "Ans: In python a varible must always start with alphabets and not a number.here in the queation the variable name starts \n",
    "     with number which is not allowed.\n",
    "     that is the reason eggs is a valid variable name but 100 is not."
   ]
  },
  {
   "cell_type": "markdown",
   "id": "3ae6eb48-db5f-4beb-9589-ccc3c41d2c01",
   "metadata": {},
   "source": [
    "9. What three functions can be used to get the integer, floating-point number, or string\n",
    "version of a value?"
   ]
  },
  {
   "cell_type": "markdown",
   "id": "bde341f2-94e6-4cf6-9b3a-8d00be208449",
   "metadata": {},
   "source": [
    "Ans: The three functions are :\n",
    "    int()\n",
    "    float()\n",
    "    str()"
   ]
  },
  {
   "cell_type": "markdown",
   "id": "40b145ea-3544-4d16-99ae-78813e9beaa2",
   "metadata": {},
   "source": [
    "10. Why does this expression cause an error? How can you fix it?\n",
    "&#39;I have eaten &#39; + 99 + &#39; burritos.&#39;"
   ]
  },
  {
   "cell_type": "markdown",
   "id": "16ffa946-754c-4c72-9b94-128d4e40e7ab",
   "metadata": {},
   "source": [
    "Ans: The error is caused there is a interger value in between and we cannot add strings with integers,thats not possible\n",
    "      it can be corrected in the following way:\n",
    "      'I have eaten'+' 99'+'burritos'\n",
    "      here the integer value 99 is written in the form of a string by writing it in ''."
   ]
  },
  {
   "cell_type": "code",
   "execution_count": null,
   "id": "18fef12a-a4ee-4fc2-a327-6db7433bd101",
   "metadata": {},
   "outputs": [],
   "source": []
  }
 ],
 "metadata": {
  "kernelspec": {
   "display_name": "Python 3 (ipykernel)",
   "language": "python",
   "name": "python3"
  },
  "language_info": {
   "codemirror_mode": {
    "name": "ipython",
    "version": 3
   },
   "file_extension": ".py",
   "mimetype": "text/x-python",
   "name": "python",
   "nbconvert_exporter": "python",
   "pygments_lexer": "ipython3",
   "version": "3.9.13"
  }
 },
 "nbformat": 4,
 "nbformat_minor": 5
}
