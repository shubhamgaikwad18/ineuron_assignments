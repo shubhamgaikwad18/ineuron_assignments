{
 "cells": [
  {
   "cell_type": "markdown",
   "id": "43849858-7780-405e-94a2-04b0e2055a6f",
   "metadata": {},
   "source": [
    "ASSIGNMENT 3"
   ]
  },
  {
   "cell_type": "markdown",
   "id": "e2a56cd5-1703-4104-abc9-af6eb2fcb097",
   "metadata": {},
   "source": [
    "1. Why are functions advantageous to have in your programs?"
   ]
  },
  {
   "cell_type": "markdown",
   "id": "a4b0ce81-682f-4e11-84a2-32feb5a897cd",
   "metadata": {},
   "source": [
    "Ans) functions bring modularity, reusability, abstraction, and code organization to your programs, making them easier to understand, test, maintain, and scale. They are essential building blocks that enhance code quality, productivity, and collaboration in software development."
   ]
  },
  {
   "cell_type": "markdown",
   "id": "620a4336-1dd5-4ca1-969e-01f2adef5fac",
   "metadata": {},
   "source": [
    "2. When does the code in a function run: when it&#39;s specified or when it&#39;s called?"
   ]
  },
  {
   "cell_type": "markdown",
   "id": "811055c9-e660-4766-a00f-845f73586ad9",
   "metadata": {},
   "source": [
    "Ans)The code inside a function runs when the function is called. Functions are defined with a specific set of instructions or code, but that code is not executed until the function is invoked or called from another part of the program.\n",
    "\n",
    "When you define a function, you essentially create a reusable block of code with a specific name and a set of parameters (if any). This code block contains a sequence of instructions that define the behavior of the function. However, these instructions are not executed until the function is explicitly called."
   ]
  },
  {
   "cell_type": "markdown",
   "id": "4d25c616-4e04-47a5-b36a-287db300e0b0",
   "metadata": {},
   "source": [
    "3. What statement creates a function?"
   ]
  },
  {
   "cell_type": "markdown",
   "id": "c3510b7c-5b26-4ff2-9bf0-a0156800b38e",
   "metadata": {},
   "source": [
    "Ans)The statement that creates a function is typically called a \"function definition\" or a \"function declaration.\" In Python, the def keyword is used to define a function.\n",
    "\n",
    "The general syntax for creating a function in Python is as follows:\n",
    "\n",
    "def function_name(parameters):"
   ]
  },
  {
   "cell_type": "markdown",
   "id": "ccb73276-682c-4c72-884a-10dc233c5516",
   "metadata": {},
   "source": [
    "4. What is the difference between a function and a function call?"
   ]
  },
  {
   "cell_type": "markdown",
   "id": "1b71f391-c008-4111-95fb-9d25b668d550",
   "metadata": {},
   "source": [
    "Ans) Funtion:In Python, a function is a block of reusable code that performs a specific task or a set of instructions. It is defined using the def keyword followed by a name and a set of parentheses, possibly with parameters inside the parentheses. The function may also have a return statement to provide a value as the result of its execution.\n",
    "     Function Call:A function call, on the other hand, is the process of executing a function and providing it with the necessary arguments or inputs. It is done by using the function's name followed by parentheses, optionally with values or variables passed as arguments."
   ]
  },
  {
   "cell_type": "markdown",
   "id": "4d9cddd2-448d-42fb-9cca-2842987eff7d",
   "metadata": {},
   "source": [
    "5. How many global scopes are there in a Python program? How many local scopes?"
   ]
  },
  {
   "cell_type": "markdown",
   "id": "14acbf50-7b4c-443f-bd8a-63506cd4892d",
   "metadata": {},
   "source": [
    "Ans)In a Python program, there is only one global scope. The global scope is the outermost scope and is accessible throughout the entire program. Any variables, functions, or classes defined at the top level of a module or outside any functions or classes belong to the global scope."
   ]
  },
  {
   "cell_type": "markdown",
   "id": "c02ef667-a815-4e19-b03b-4ac514ab4e8f",
   "metadata": {},
   "source": [
    "6. What happens to variables in a local scope when the function call returns?"
   ]
  },
  {
   "cell_type": "markdown",
   "id": "b899f57f-9494-4d7d-a2bd-a23a2d53a893",
   "metadata": {},
   "source": [
    "Ans)When a function call returns in Python, the local scope associated with that function is destroyed. This means that the variables defined within the local scope are no longer accessible or available for use outside of the function.\n",
    "def my_function():\n",
    "    local_var = 10\n",
    "    print(local_var)\n",
    "\n",
    "my_function()   # Output: 10\n",
    "print(local_var)  # Error: NameError: name 'local_var' is not defined\n",
    "In this example, my_function defines a local variable local_var within its local scope. When the function is called, it prints the value of local_var, which is 10. However, when the function call returns, attempting to access local_var outside the function results in a NameError because the variable is no longer in scope."
   ]
  },
  {
   "cell_type": "markdown",
   "id": "29084e97-f84d-4109-b6fc-397703df53a5",
   "metadata": {},
   "source": [
    "7. What is the concept of a return value? Is it possible to have a return value in an expression? in python"
   ]
  },
  {
   "cell_type": "markdown",
   "id": "933c71e3-9163-40c5-b5a9-1753ed4822be",
   "metadata": {},
   "source": [
    "Ans)The concept of a return value in Python refers to the value that a function can optionally provide as a result of its execution. When a function reaches a return statement, it can specify a value to be returned to the caller. This returned value can be used in expressions, assigned to variables, or passed as arguments to other functions."
   ]
  },
  {
   "cell_type": "markdown",
   "id": "eafaf196-0135-4e73-b707-a4db7ed235eb",
   "metadata": {},
   "source": [
    "8. If a function does not have a return statement, what is the return value of a call to that function?"
   ]
  },
  {
   "cell_type": "markdown",
   "id": "1a0b2d7f-84f4-4c84-b57b-02d4f6006874",
   "metadata": {},
   "source": [
    "Ans) If a function does not have a return statement, the return value of a call to that function is None. In Python, None is a special object that represents the absence of a value or the null value.Here's an example of a function without a return statement:\n",
    "\n",
    "def greet(name):\n",
    "    print(f\"Hello, {name}!\")\n",
    "\n",
    "result = greet(\"John\")\n",
    "print(result)  # Output: None\n",
    "\n",
    "In this example, the greet function takes a parameter name and prints a greeting message. However, it does not have a return statement. When the function is called with the argument \"John\", the greeting message is printed, but the return value of the function is None. When result is printed, it displays None."
   ]
  },
  {
   "cell_type": "markdown",
   "id": "5a5190b3-6959-4051-9ca4-557def9d6f03",
   "metadata": {},
   "source": [
    "9. How do you make a function variable refer to the global variable?"
   ]
  },
  {
   "cell_type": "markdown",
   "id": "f28b6592-ca29-4a0f-965d-cc144a403377",
   "metadata": {},
   "source": [
    "Ans) In Python, if you want to make a function variable refer to the global variable with the same name, you can use the global keyword inside the function. The global keyword allows you to explicitly indicate that a variable is from the global scope, rather than creating a new local variable within the function."
   ]
  },
  {
   "cell_type": "markdown",
   "id": "2af01ea8-d09f-44f4-adfc-73f3054c3960",
   "metadata": {},
   "source": [
    "10. What is the data type of None?"
   ]
  },
  {
   "cell_type": "markdown",
   "id": "48767bb9-4031-48e1-ab06-f4f52fcaedc0",
   "metadata": {},
   "source": [
    "Ans)In Python, the data type of None is called NoneType. It is a built-in type that represents the absence of a value or the null value.\n",
    "\n",
    "You can check the data type of None using the type() function:\n",
    "    result = None\n",
    "    print(type(result))  # Output: <class 'NoneType'>\n",
    "    \n",
    "In this example, result is assigned the value None. By using the type() function, we can determine that the data type of result is <class 'NoneType'>, indicating that it is of the NoneType.    \n"
   ]
  },
  {
   "cell_type": "markdown",
   "id": "3cd4981d-d5b2-4b5f-a676-f00ba57ae736",
   "metadata": {},
   "source": [
    "11. What does the sentence import areallyourpetsnamederic do?"
   ]
  },
  {
   "cell_type": "markdown",
   "id": "39b0ce3d-9db1-4ebb-b8da-050a288f296a",
   "metadata": {},
   "source": [
    "Ans)The sentence import areallyourpetsnamederic in Python does not have any inherent meaning or functionality in the Python language itself. It appears to be a made-up or fictional import statement that does not correspond to any existing Python module or package.\n",
    "\n",
    "In Python, the import statement is used to bring in external modules or packages into your program, allowing you to access their functionality. When you import a module, you can use its defined functions, classes, or variables within your code."
   ]
  },
  {
   "cell_type": "markdown",
   "id": "98ce265f-400d-46f2-b5a8-075081376ae2",
   "metadata": {},
   "source": [
    "12. If you had a bacon() feature in a spam module, what would you call it after importing spam?"
   ]
  },
  {
   "cell_type": "markdown",
   "id": "6f647881-ea88-4d98-a0c9-e319d4d7b108",
   "metadata": {},
   "source": [
    "Ans)If you have imported a module named spam that contains a feature or function called bacon(), you can call it using the following syntax:\n",
    "    import spam\n",
    "    spam.bacon()\n",
    "In this example, spam is the name of the imported module, and bacon() is the function within that module. By prefixing the function name with the module name and a dot (spam.bacon()), you can access and invoke the bacon() function from the spam module."
   ]
  },
  {
   "cell_type": "markdown",
   "id": "d6077d5d-57e4-4b5c-9f4d-0338a361d54e",
   "metadata": {},
   "source": [
    "13. What can you do to save a programme from crashing if it encounters an error?"
   ]
  },
  {
   "cell_type": "markdown",
   "id": "33b640e6-50df-4d4c-8004-5a7b76f131ca",
   "metadata": {},
   "source": [
    "Ans)To prevent a Python program from crashing when it encounters an error, you can implement error handling techniques using exception handling. Exception handling allows you to catch and handle specific types of errors that may occur during program execution, preventing the program from abruptly terminating.\n",
    "\n",
    "In Python, you can use the try-except statement to catch and handle exceptions. The code that may potentially raise an error is placed within the try block, and any potential error handling code is placed within one or more except blocks."
   ]
  },
  {
   "cell_type": "markdown",
   "id": "84ac1c94-9082-46c8-b6f2-eaf5a897529a",
   "metadata": {},
   "source": [
    "14. What is the purpose of the try clause? What is the purpose of the except clause?"
   ]
  },
  {
   "cell_type": "markdown",
   "id": "725e458c-1652-4f4d-a8d6-8a5e65d1daf6",
   "metadata": {},
   "source": [
    "Ans)In Python, the try and except clauses are used together as part of exception handling to handle and manage errors that may occur during program execution.\n",
    "\n",
    "The purpose of the try clause is to enclose the block of code that may potentially raise an exception. It allows you to specify a section of code where you anticipate the occurrence of errors. If an error occurs within the try block, the program flow is immediately transferred to the corresponding except block.\n",
    "\n",
    "The purpose of the except clause is to define the code that handles the specific exception raised within the try block. It allows you to catch and handle specific types of exceptions, providing an opportunity to gracefully handle errors and prevent the program from crashing. Within the except block, you can include code to handle the exception, log the error, display an error message, or perform any necessary error recovery actions."
   ]
  },
  {
   "cell_type": "code",
   "execution_count": null,
   "id": "8b2a8995-e521-4948-80de-246fc161db37",
   "metadata": {},
   "outputs": [],
   "source": []
  }
 ],
 "metadata": {
  "kernelspec": {
   "display_name": "Python 3 (ipykernel)",
   "language": "python",
   "name": "python3"
  },
  "language_info": {
   "codemirror_mode": {
    "name": "ipython",
    "version": 3
   },
   "file_extension": ".py",
   "mimetype": "text/x-python",
   "name": "python",
   "nbconvert_exporter": "python",
   "pygments_lexer": "ipython3",
   "version": "3.9.13"
  }
 },
 "nbformat": 4,
 "nbformat_minor": 5
}
