{
 "cells": [
  {
   "cell_type": "markdown",
   "id": "f9e1b571-17c7-400a-8493-98ec4475ba39",
   "metadata": {},
   "source": [
    "1.What are the two values of the Boolean data type? How do you write them?"
   ]
  },
  {
   "cell_type": "markdown",
   "id": "5e0ce2ea-b5f7-419f-8fbb-d2939c88e2b2",
   "metadata": {},
   "source": [
    "Ans: The two different types of boolean data types are True and False.These two types help us when we have a condition\n",
    "     We can say true is for 1 and 0 is for false statement.We will try to know how to write both :\n",
    "     we just have to write the condtion,i.e if,elif,esle and write True or False.\n",
    "    "
   ]
  },
  {
   "cell_type": "markdown",
   "id": "62a03af9-c6d7-416d-a54d-451155b29347",
   "metadata": {},
   "source": [
    "2. What are the three different types of Boolean operators?"
   ]
  },
  {
   "cell_type": "markdown",
   "id": "5c8b2441-552b-4f38-b58c-72ad9d63d06b",
   "metadata": {},
   "source": [
    "Ans: The 3 different types of boolean operators are:\n",
    "     AND operator: The AND operator is represented by the keyword \"and\" in Python. It is used to combine two or more conditions and          returns True only if all the conditions are True.\n",
    "     OR operator: The OR operator is represented by the keyword \"or\" in Python. It is used to combine two or more conditions and returns      True if at least one of the conditions is True.\n",
    "     NOT operator: The NOT operator is represented by the keyword \"not\" in Python. It is used to negate or reverse the value of a \n",
    "     condition. If the condition is True, applying the NOT operator will return False, and if the condition is False, applying the NOT        operator will return True. "
   ]
  },
  {
   "cell_type": "markdown",
   "id": "d67bcc17-4834-4827-9667-3c39ccc4009c",
   "metadata": {},
   "source": [
    "3. Make a list of each Boolean operator&#39;s truth tables (i.e. every possible combination of Boolean\n",
    "values for the operator and what it evaluate )."
   ]
  },
  {
   "cell_type": "markdown",
   "id": "f5837af6-299f-4bd9-b5bf-25fbce783efd",
   "metadata": {},
   "source": [
    "Ans: Truth Tables:\n",
    "    AND operator truth table:\n",
    "    A\tB\tA AND B\n",
    "    False\tFalse\tFalse\n",
    "    False\tTrue\tFalse\n",
    "    True\tFalse\tFalse\n",
    "    True\tTrue\tTrue\n",
    "    OR operator truth table:\n",
    "    A\tB\tA OR B\n",
    "    False\tFalse\tFalse\n",
    "    False\tTrue\tTrue\n",
    "    True\tFalse\tTrue\n",
    "    True\tTrue\tTrue\n",
    "    NOT operator truth table:\n",
    "    A\tNOT A\n",
    "    False\tTrue\n",
    "    True\tFalse"
   ]
  },
  {
   "cell_type": "markdown",
   "id": "6b97e38c-1428-4aef-aad5-69a9bba31c0f",
   "metadata": {},
   "source": [
    "4. What are the values of the following expressions?\n",
    "(5 &gt; 4) and (3 == 5)\n",
    "not (5 &gt; 4)\n",
    "(5 &gt; 4) or (3 == 5)\n",
    "not ((5 &gt; 4) or (3 == 5))\n",
    "(True and True) and (True == False)\n",
    "(not False) or (not True)"
   ]
  },
  {
   "cell_type": "markdown",
   "id": "bbd6cfce-ce68-4577-9b01-b514ba94ae70",
   "metadata": {},
   "source": [
    "Ans: (5 > 4) and (3 == 5):\n",
    "\n",
    "The expression (5 > 4) evaluates to True.\n",
    "The expression (3 == 5) evaluates to False.\n",
    "The AND operator (represented by \"and\") requires both conditions to be True for the whole expression to be True.\n",
    "Since one of the conditions (3 == 5) is False, the whole expression evaluates to False.\n",
    "Result: False\n",
    "\n",
    "not (5 > 4):\n",
    "\n",
    "The expression (5 > 4) evaluates to True.\n",
    "The NOT operator (represented by \"not\") negates the value of the condition.\n",
    "Since the condition (5 > 4) is True, applying the NOT operator results in False.\n",
    "Result: False\n",
    "\n",
    "(5 > 4) or (3 == 5):\n",
    "\n",
    "The expression (5 > 4) evaluates to True.\n",
    "The expression (3 == 5) evaluates to False.\n",
    "The OR operator (represented by \"or\") requires at least one condition to be True for the whole expression to be True.\n",
    "Since one of the conditions (5 > 4) is True, the whole expression evaluates to True.\n",
    "Result: True\n",
    "\n",
    "not ((5 > 4) or (3 == 5)):\n",
    "\n",
    "The expression (5 > 4) or (3 == 5) evaluates to True.\n",
    "The NOT operator negates the value of the condition.\n",
    "Since the condition (5 > 4) or (3 == 5) is True, applying the NOT operator results in False.\n",
    "Result: False\n",
    "\n",
    "(True and True) and (True == False):\n",
    "\n",
    "The expression (True and True) evaluates to True.\n",
    "The expression (True == False) evaluates to False.\n",
    "The AND operator requires both conditions to be True for the whole expression to be True.\n",
    "Since one of the conditions (True == False) is False, the whole expression evaluates to False.\n",
    "Result: False\n",
    "\n",
    "(not False) or (not True):\n",
    "\n",
    "The expression (not False) evaluates to True (negation of False).\n",
    "The expression (not True) evaluates to False (negation of True).\n",
    "The OR operator requires at least one condition to be True for the whole expression to be True.\n",
    "Since one of the conditions (not False) is True, the whole expression evaluates to True.\n",
    "Result: True\n",
    "\n",
    "To summarize, the values of the given expressions are:\n",
    "\n",
    "(5 > 4) and (3 == 5): False\n",
    "not (5 > 4): False\n",
    "(5 > 4) or (3 == 5): True\n",
    "not ((5 > 4) or (3 == 5)): False\n",
    "(True and True) and (True == False): False\n",
    "(not False) or (not True): True\n",
    "\n",
    "\n",
    "\n",
    "\n"
   ]
  },
  {
   "cell_type": "markdown",
   "id": "df5aace4-26c6-46ff-b8d1-5753890dc9e0",
   "metadata": {},
   "source": [
    "5. What are the six comparison operators?"
   ]
  },
  {
   "cell_type": "markdown",
   "id": "b146bad4-4f90-4ac0-ae7b-bbef019d2887",
   "metadata": {},
   "source": [
    "Ans: Greater than: >\n",
    "\n",
    "Checks if the value on the left is greater than the value on the right.\n",
    "Example: 5 > 3 evaluates to True.\n",
    "Less than: <\n",
    "\n",
    "Checks if the value on the left is less than the value on the right.\n",
    "Example: 2 < 7 evaluates to True.\n",
    "Greater than or equal to: >=\n",
    "\n",
    "Checks if the value on the left is greater than or equal to the value on the right.\n",
    "Example: 5 >= 5 evaluates to True.\n",
    "Less than or equal to: <=\n",
    "\n",
    "Checks if the value on the left is less than or equal to the value on the right.\n",
    "Example: 4 <= 4 evaluates to True.\n",
    "Equal to: ==\n",
    "\n",
    "Checks if the value on the left is equal to the value on the right.\n",
    "Example: 3 == 3 evaluates to True.\n",
    "Not equal to: !=\n",
    "\n",
    "Checks if the value on the left is not equal to the value on the right.\n",
    "Example: 2 != 5 evaluates to True.\n",
    "These comparison operators are used to compare values and return Boolean values (True or False) based on the result of the comparison. They are commonly used in conditional statements and loops to make decisions in Python programs.\n",
    "\n",
    "\n",
    "\n",
    "\n",
    "\n",
    "\n",
    "\n",
    "\n"
   ]
  },
  {
   "cell_type": "markdown",
   "id": "f1ceed12-450d-4879-9ecb-4fb00a39f347",
   "metadata": {},
   "source": [
    "6.How do you tell the difference between the equal to and assignment operators?Describe a\n",
    "condition and when you would use one."
   ]
  },
  {
   "cell_type": "markdown",
   "id": "1f1ca09c-86e5-4795-b2ff-57b8248a6030",
   "metadata": {},
   "source": [
    "Ans: In Python, the equal to operator is represented by ==, and it is used for comparison, checking if two values are equal. On the other hand, the assignment operator is represented by =, and it is used to assign a value to a variable.\n",
    "\n",
    "The main difference between the two operators is their purpose and context:\n",
    "\n",
    "Equal to operator (==):\n",
    "\n",
    "Purpose: It is used for comparison and checks if two values are equal.\n",
    "Example: x == y compares the values of variables x and y and returns True if they are equal, otherwise False.\n",
    "Assignment operator (=):\n",
    "\n",
    "Purpose: It is used to assign a value to a variable.\n",
    "Example: x = 10 assigns the value 10 to the variable x.\n",
    "Here's a simple condition to demonstrate the difference:\n",
    "\n",
    "python\n",
    "Copy code\n",
    "# Equal to operator\n",
    "a = 5\n",
    "b = 10\n",
    "\n",
    "if a == b:\n",
    "    print(\"a and b are equal.\")\n",
    "else:\n",
    "    print(\"a and b are not equal.\")\n",
    "Output:\n",
    "\n",
    "css\n",
    "Copy code\n",
    "a and b are not equal.\n",
    "In this example, we use the equal to operator (==) to compare the values of variables a and b. Since a is not equal to b, the condition evaluates to False, and the \"a and b are not equal.\" message is printed.\n",
    "\n",
    "On the other hand, if we use the assignment operator (=) instead:\n",
    "\n",
    "python\n",
    "Copy code\n",
    "a = 5\n",
    "b = a  # Assign the value of 'a' to 'b'\n",
    "\n",
    "print(a)  # Output: 5\n",
    "print(b)  # Output: 5\n",
    "In this case, we use the assignment operator (=) to assign the value of variable a to variable b. The value of b becomes the same as a, and both variables hold the value 5.\n",
    "\n",
    "\n",
    "\n",
    "\n",
    "\n"
   ]
  },
  {
   "cell_type": "markdown",
   "id": "4e2a9b6b-4e9a-4a2a-aae2-5364363e7a1d",
   "metadata": {},
   "source": [
    "7. Identify the three blocks in this code:\n",
    "spam = 0\n",
    "if spam == 10:\n",
    "print(&#39;eggs&#39;)\n",
    "if spam &gt; 5:\n",
    "print(&#39;bacon&#39;)\n",
    "else:\n",
    "print(&#39;ham&#39;)\n",
    "print(&#39;spam&#39;)\n",
    "print(&#39;spam&#39;)"
   ]
  },
  {
   "cell_type": "markdown",
   "id": "21a679f8-6ef0-4961-aa21-4ca28dc91b23",
   "metadata": {},
   "source": [
    "Ans: In the provided code, there are three distinct blocks based on the indentation. Here's the breakdown:\n",
    "\n",
    "Block 1:\n",
    "if spam == 10:\n",
    "    print('eggs')\n",
    "    \n",
    "   This block is an if statement checking if the value of the variable spam is equal to 10. If it is, the statement within the block (print('eggs')) will be executed.\n",
    "\n",
    "Block 2:\n",
    "if spam > 5:\n",
    "    print('bacon')\n",
    "    \n",
    "    \n",
    "This block checks if the value of spam is greater than 5. If it is true, it prints 'bacon'. Otherwise, it prints 'ham'. Since spam is 0, which is not greater than 5, the print('ham') statement is executed.\n",
    "\n",
    "\n",
    "Block 3:\n",
    "\n",
    "print('spam')\n",
    "print('spam')\n",
    "\n",
    "This block consists of two consecutive print statements. It prints 'spam' twice, regardless of the conditions in the previous blocks. Both print statements will be executed.\n",
    "\n"
   ]
  },
  {
   "cell_type": "markdown",
   "id": "599d079d-fb1e-434b-b7d5-2230aaf8f119",
   "metadata": {},
   "source": [
    "8. Write code that prints Hello if 1 is stored in spam, prints Howdy if 2 is stored in spam, and prints\n",
    "Greetings! if anything else is stored in spam."
   ]
  },
  {
   "cell_type": "code",
   "execution_count": 5,
   "id": "fcabce40-1d93-4a98-95f4-4ebd0977d5d3",
   "metadata": {},
   "outputs": [
    {
     "name": "stdin",
     "output_type": "stream",
     "text": [
      "enter 1 or 2: 89\n"
     ]
    },
    {
     "name": "stdout",
     "output_type": "stream",
     "text": [
      "Greetings!\n"
     ]
    }
   ],
   "source": [
    "  \n",
    "    spam=int(input('enter 1 or 2:'))\n",
    "    if spam==1:\n",
    "        print('Hello')\n",
    "    elif spam==2:\n",
    "        print('Howdy')\n",
    "    else:\n",
    "        print('Greetings!')"
   ]
  },
  {
   "cell_type": "markdown",
   "id": "4476ce74-c73e-4f42-9c97-cc242486200e",
   "metadata": {},
   "source": [
    "9.If your programme is stuck in an endless loop, what keys you’ll press?"
   ]
  },
  {
   "cell_type": "markdown",
   "id": "0472e6ad-a407-4546-94aa-cd5fbcc916fb",
   "metadata": {},
   "source": [
    "Ans:n Python, if your program is stuck in an endless loop and you want to stop its execution, you can typically press the following key combination:\n",
    "\n",
    "On Windows: Press \"Ctrl + C\" (the Control key and the C key) simultaneously.\n",
    "On macOS/Linux: Press \"Ctrl + C\" (the Control key and the C key) simultaneously.\n",
    "This key combination sends a KeyboardInterrupt signal to the Python interpreter, causing it to terminate the currently running program. It effectively interrupts the execution and breaks out of the endless loop or stops the program from running indefinitely."
   ]
  },
  {
   "cell_type": "markdown",
   "id": "bcec4df7-297f-45e7-ad14-92418bbe2050",
   "metadata": {},
   "source": [
    "10. How can you tell the difference between break and continue?"
   ]
  },
  {
   "cell_type": "markdown",
   "id": "e17459cc-1402-44bc-bc33-97093be71551",
   "metadata": {},
   "source": [
    "Ans: break:\n",
    "    The break statement is used to exit the loop prematurely when a specific condition is met.\n",
    "    When the break statement is encountered inside a loop, the loop immediately terminates, and the control jumps to the statement           immediately after the loop.\n",
    "    It is useful when you want to stop the loop once a certain condition is satisfied, and you don't need to continue iterating through     the remaining elements.\n",
    "    continue:\n",
    "    The continue statement is used to skip the current iteration of the loop when a specific condition is met, but the loop continues       with the next iteration.\n",
    "    When the continue statement is encountered inside a loop, the current iteration is stopped, and the control jumps to the next           iteration.\n",
    "    It is useful when you want to skip certain elements in the loop based on some condition, but you still want to continue with the         remaining iterations."
   ]
  },
  {
   "cell_type": "markdown",
   "id": "4f028e63-a445-4f5c-8ad5-90129f097eb0",
   "metadata": {},
   "source": [
    "11. In a for loop, what is the difference between range(10), range(0, 10), and range(0, 10, 1)?"
   ]
  },
  {
   "cell_type": "markdown",
   "id": "47730cc6-45e2-4250-8fa9-8a0318e92e2e",
   "metadata": {},
   "source": [
    "Ans:range(10):\n",
    "    This call to range() generates a sequence of numbers starting from 0 (default start value) up to, but not including, 10 (specified       stop value).\n",
    "    It increments by 1 (default step size) in each iteration.\n",
    "    The sequence generated is [0, 1, 2, 3, 4, 5, 6, 7, 8, 9].\n",
    "\n",
    "   range(0, 10):\n",
    "    This call to range() generates a sequence of numbers starting from 0 (specified start value) up to, but not including, 10 (specified stop value).\n",
    "    It increments by 1 (default step size) in each iteration.\n",
    "    The sequence generated is the same as range(10): [0, 1, 2, 3, 4, 5, 6, 7, 8, 9].\n",
    "\n",
    "   range(0, 10, 1):\n",
    "    This call to range() generates a sequence of numbers starting from 0 (specified start value) up to, but not including, 10 (specified stop value).\n",
    "    It increments by 1 (specified step size) in each iteration.\n",
    "    The sequence generated is the same as range(10) and range(0, 10): [0, 1, 2, 3, 4, 5, 6, 7, 8, 9]."
   ]
  },
  {
   "cell_type": "markdown",
   "id": "39012a02-6c09-461f-9c41-98a755786343",
   "metadata": {},
   "source": [
    "12. Write a short program that prints the numbers 1 to 10 using a for loop. Then write an equivalent\n",
    "program that prints the numbers 1 to 10 using a while loop."
   ]
  },
  {
   "cell_type": "code",
   "execution_count": null,
   "id": "512eb9e5-598b-454f-827a-ac7ba79cb899",
   "metadata": {},
   "outputs": [],
   "source": [
    "for i in range(1, 11):\n",
    "    print(i)\n",
    "\n",
    "    \n",
    "i = 1\n",
    "while i <= 10:\n",
    "    print(i)\n",
    "    i += 1\n",
    "    "
   ]
  },
  {
   "cell_type": "markdown",
   "id": "40594d18-2f5c-4d2e-a40b-cc0ec7beed5c",
   "metadata": {},
   "source": [
    "13. If you had a function named bacon() inside a module named spam, how would you call it after\n",
    "importing spam?"
   ]
  },
  {
   "cell_type": "code",
   "execution_count": null,
   "id": "902ebfa8-ff6c-4c9f-9c6b-58920070934e",
   "metadata": {},
   "outputs": [],
   "source": [
    "Ans:"
   ]
  }
 ],
 "metadata": {
  "kernelspec": {
   "display_name": "Python 3 (ipykernel)",
   "language": "python",
   "name": "python3"
  },
  "language_info": {
   "codemirror_mode": {
    "name": "ipython",
    "version": 3
   },
   "file_extension": ".py",
   "mimetype": "text/x-python",
   "name": "python",
   "nbconvert_exporter": "python",
   "pygments_lexer": "ipython3",
   "version": "3.9.13"
  }
 },
 "nbformat": 4,
 "nbformat_minor": 5
}
